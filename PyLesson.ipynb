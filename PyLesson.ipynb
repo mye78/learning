{
  "nbformat": 4,
  "nbformat_minor": 0,
  "metadata": {
    "colab": {
      "provenance": [],
      "toc_visible": true,
      "authorship_tag": "ABX9TyOinaKKv1dwsOW91GKEWWLG",
      "include_colab_link": true
    },
    "kernelspec": {
      "name": "python3",
      "display_name": "Python 3"
    },
    "language_info": {
      "name": "python"
    }
  },
  "cells": [
    {
      "cell_type": "markdown",
      "metadata": {
        "id": "view-in-github",
        "colab_type": "text"
      },
      "source": [
        "<a href=\"https://colab.research.google.com/github/mye78/learning/blob/main/PyLesson.ipynb\" target=\"_parent\"><img src=\"https://colab.research.google.com/assets/colab-badge.svg\" alt=\"Open In Colab\"/></a>"
      ]
    },
    {
      "cell_type": "markdown",
      "source": [
        "# Adding ***Comments***"
      ],
      "metadata": {
        "id": "LpuGTRnZdvNi"
      }
    },
    {
      "cell_type": "markdown",
      "source": [
        "## Working with text cells\n",
        "1. List item\n",
        "> * List item\n",
        ">> * Another item\n",
        ">> * Another item2\n",
        "> * list item2\n",
        "2. List item"
      ],
      "metadata": {
        "id": "udi33xRDeh1z"
      }
    },
    {
      "cell_type": "code",
      "source": [
        "# addition function\n",
        "def add(value1, value2):\n",
        "  return value1 + value2\n",
        "\n",
        "print(add(1,2))"
      ],
      "metadata": {
        "colab": {
          "base_uri": "https://localhost:8080/"
        },
        "id": "5Iy9z2OFct4E",
        "outputId": "1eff4008-711a-4076-d9c4-2b40834f3c27"
      },
      "execution_count": 21,
      "outputs": [
        {
          "output_type": "stream",
          "name": "stdout",
          "text": [
            "3\n"
          ]
        }
      ]
    },
    {
      "cell_type": "code",
      "source": [],
      "metadata": {
        "id": "Q0vndZjnDlfb"
      },
      "execution_count": null,
      "outputs": []
    }
  ]
}